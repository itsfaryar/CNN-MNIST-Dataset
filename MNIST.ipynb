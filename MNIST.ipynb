{
  "nbformat": 4,
  "nbformat_minor": 0,
  "metadata": {
    "colab": {
      "provenance": [],
      "authorship_tag": "ABX9TyNlKEuHCShHouzhVXr+2ZSX",
      "include_colab_link": true
    },
    "kernelspec": {
      "name": "python3",
      "display_name": "Python 3"
    },
    "language_info": {
      "name": "python"
    },
    "accelerator": "GPU",
    "gpuClass": "standard"
  },
  "cells": [
    {
      "cell_type": "markdown",
      "metadata": {
        "id": "view-in-github",
        "colab_type": "text"
      },
      "source": [
        "<a href=\"https://colab.research.google.com/github/itsfaryar/CNN-MNIST-Dataset/blob/main/MNIST.ipynb\" target=\"_parent\"><img src=\"https://colab.research.google.com/assets/colab-badge.svg\" alt=\"Open In Colab\"/></a>"
      ]
    },
    {
      "cell_type": "code",
      "source": [
        "import pandas as pd\n",
        "import tensorflow as tf\n",
        "import numpy as np\n",
        "from keras.models import Sequential, load_model\n",
        "from keras.layers import Dense, Input, Softmax, BatchNormalization, Dropout, Conv2D, MaxPool2D, Embedding, Reshape, Flatten, LSTM, GRU, SimpleRNN, Concatenate, concatenate, RepeatVector, TimeDistributed, Bidirectional\n",
        "# from keras.layers.merge import concatenate\n",
        "from keras.losses import CategoricalCrossentropy\n",
        "from keras.metrics import CategoricalAccuracy\n",
        "from keras.preprocessing.text import Tokenizer\n",
        "from tensorflow.keras.optimizers import RMSprop, Adam, Adamax, Nadam, SGD\n",
        "from tensorflow.keras import Model\n",
        "from tensorflow.keras.optimizers.schedules import InverseTimeDecay, ExponentialDecay\n",
        "from tensorflow.keras.utils import to_categorical\n",
        "from keras.utils.vis_utils import plot_model\n",
        "from keras.callbacks import ModelCheckpoint\n",
        "from tensorflow.keras.preprocessing.sequence import pad_sequences #from keras.preprocessing.sequence import pad_sequences\n",
        "from sklearn.preprocessing import LabelEncoder\n",
        "from sklearn.model_selection import train_test_split, KFold\n",
        "from sklearn import metrics\n",
        "from matplotlib import pyplot as plt\n",
        "from sklearn.model_selection import KFold\n",
        "from keras.datasets import mnist\n",
        "import os\n",
        "import string\n",
        "from google.colab import drive\n",
        "\n",
        "from sklearn.metrics import classification_report\n",
        "from sklearn.metrics import confusion_matrix\n",
        "import matplotlib.pyplot as plt\n",
        "import seaborn as sns"
      ],
      "metadata": {
        "id": "z_RCfiiz2iXz"
      },
      "execution_count": 1,
      "outputs": []
    },
    {
      "cell_type": "code",
      "source": [
        "drive.mount('/content/drive')\n",
        "path = '/content/drive/MyDrive/Projects/MNIST'"
      ],
      "metadata": {
        "colab": {
          "base_uri": "https://localhost:8080/"
        },
        "id": "UCHJ4BhaIOTS",
        "outputId": "59185513-240a-48e5-f5c4-76e4a6339615"
      },
      "execution_count": 2,
      "outputs": [
        {
          "output_type": "stream",
          "name": "stdout",
          "text": [
            "Drive already mounted at /content/drive; to attempt to forcibly remount, call drive.mount(\"/content/drive\", force_remount=True).\n"
          ]
        }
      ]
    },
    {
      "cell_type": "code",
      "execution_count": 3,
      "metadata": {
        "colab": {
          "base_uri": "https://localhost:8080/"
        },
        "id": "pqJdbYp615uM",
        "outputId": "173885a6-4750-4bf1-c7e8-edb5eaabdeea"
      },
      "outputs": [
        {
          "output_type": "execute_result",
          "data": {
            "text/plain": [
              "(((48000, 28, 28, 1), (48000, 10)),\n",
              " ((12000, 28, 28, 1), (12000, 10)),\n",
              " ((10000, 28, 28, 1), (10000, 10)))"
            ]
          },
          "metadata": {},
          "execution_count": 3
        }
      ],
      "source": [
        "(x_train, y_train), (x_test, y_test) = mnist.load_data()\n",
        "x_train = x_train / 255.0\n",
        "x_test = x_test / 255.0\n",
        "x_train = x_train.reshape(x_train.shape[0], 28, 28, 1)\n",
        "x_test  = x_test.reshape(x_test.shape[0], 28, 28, 1)\n",
        "\n",
        "x_train, x_dev, y_train, y_dev = train_test_split(x_train, y_train, test_size=0.2, random_state=42)\n",
        "y_train_cat = to_categorical(y_train)\n",
        "y_dev_cat  = to_categorical(y_dev)\n",
        "y_test_cat  = to_categorical(y_test)\n",
        "(x_train.shape, y_train_cat.shape), (x_dev.shape, y_dev_cat.shape), (x_test.shape, y_test_cat.shape)"
      ]
    },
    {
      "cell_type": "code",
      "source": [
        "input_shape = (28, 28, 1)\n",
        "input_img = Input(shape=input_shape)\n",
        "\n",
        "conv1 = Conv2D(32, (3,3), padding='same', activation='relu')(input_img)\n",
        "\n",
        "#pool1=MaxPool2D((3,3), strides=(1,1), padding='same')(conv1)\n",
        "\n",
        "conv2 = Conv2D(64, (3,3), padding='same', activation='relu')(conv1)\n",
        "#conv3 = Conv2D(128, (3,3), padding='same', activation='relu')(conv2)\n",
        "\n",
        "flat_1 = Flatten()(conv2)\n",
        "\n",
        "dense = Dense(16, activation='relu')(flat_1)\n",
        "#dense = Dense(16, activation='relu')(dense)\n",
        "output = Dense(10, activation='softmax')(dense)\n",
        "model = Model([input_img], output)\n",
        "model.summary()"
      ],
      "metadata": {
        "colab": {
          "base_uri": "https://localhost:8080/"
        },
        "id": "dZshLfx-46BG",
        "outputId": "7c1c4f93-6f9a-4dcd-9762-dbdde0211c8e"
      },
      "execution_count": 4,
      "outputs": [
        {
          "output_type": "stream",
          "name": "stdout",
          "text": [
            "Model: \"model\"\n",
            "_________________________________________________________________\n",
            " Layer (type)                Output Shape              Param #   \n",
            "=================================================================\n",
            " input_1 (InputLayer)        [(None, 28, 28, 1)]       0         \n",
            "                                                                 \n",
            " conv2d (Conv2D)             (None, 28, 28, 32)        320       \n",
            "                                                                 \n",
            " conv2d_1 (Conv2D)           (None, 28, 28, 64)        18496     \n",
            "                                                                 \n",
            " flatten (Flatten)           (None, 50176)             0         \n",
            "                                                                 \n",
            " dense (Dense)               (None, 16)                802832    \n",
            "                                                                 \n",
            " dense_1 (Dense)             (None, 10)                170       \n",
            "                                                                 \n",
            "=================================================================\n",
            "Total params: 821,818\n",
            "Trainable params: 821,818\n",
            "Non-trainable params: 0\n",
            "_________________________________________________________________\n"
          ]
        }
      ]
    },
    {
      "cell_type": "code",
      "source": [
        "#model.load_weights(\"\")\n",
        "model.compile(optimizer='Adam', \n",
        "              loss='categorical_crossentropy', \n",
        "              metrics =['accuracy'])\n"
      ],
      "metadata": {
        "id": "cf4o58c3HTdC"
      },
      "execution_count": 5,
      "outputs": []
    },
    {
      "cell_type": "code",
      "source": [
        "# autosave best Model\n",
        "best_model_file = path + '/model'\n",
        "best_model = ModelCheckpoint(best_model_file, monitor='val_accuracy', verbose = 1, save_best_only = True)"
      ],
      "metadata": {
        "id": "zE85w2LAH5lh"
      },
      "execution_count": 6,
      "outputs": []
    },
    {
      "cell_type": "code",
      "source": [
        "with tf.device('/GPU:0'):\n",
        "  history = model.fit(x_train, y_train_cat, batch_size=128, epochs=30, callbacks=[best_model], validation_data=(x_dev, y_dev_cat))  # starts training"
      ],
      "metadata": {
        "colab": {
          "base_uri": "https://localhost:8080/"
        },
        "id": "Uofv5QVEHle_",
        "outputId": "e782687c-7976-4c69-c0ee-17582635f011"
      },
      "execution_count": 7,
      "outputs": [
        {
          "output_type": "stream",
          "name": "stdout",
          "text": [
            "Epoch 1/30\n",
            "375/375 [==============================] - ETA: 0s - loss: 0.2764 - accuracy: 0.9189\n",
            "Epoch 1: val_accuracy improved from -inf to 0.97258, saving model to /content/drive/MyDrive/Projects/MNIST/model\n"
          ]
        },
        {
          "output_type": "stream",
          "name": "stderr",
          "text": [
            "WARNING:absl:Found untraced functions such as _jit_compiled_convolution_op, _jit_compiled_convolution_op while saving (showing 2 of 2). These functions will not be directly callable after loading.\n"
          ]
        },
        {
          "output_type": "stream",
          "name": "stdout",
          "text": [
            "\b\b\b\b\b\b\b\b\b\b\b\b\b\b\b\b\b\b\b\b\b\b\b\b\b\b\b\b\b\b\b\b\b\b\b\b\b\b\b\b\b\b\b\b\b\b\b\b\b\b\b\b\b\b\b\b\b\b\b\b\b\b\b\b\b\b\b\b\b\b\b\b\b\b\b\b\b\b\b\b\b\b\b\b\r375/375 [==============================] - 17s 22ms/step - loss: 0.2764 - accuracy: 0.9189 - val_loss: 0.0929 - val_accuracy: 0.9726\n",
            "Epoch 2/30\n",
            "375/375 [==============================] - ETA: 0s - loss: 0.0691 - accuracy: 0.9796\n",
            "Epoch 2: val_accuracy improved from 0.97258 to 0.98108, saving model to /content/drive/MyDrive/Projects/MNIST/model\n"
          ]
        },
        {
          "output_type": "stream",
          "name": "stderr",
          "text": [
            "WARNING:absl:Found untraced functions such as _jit_compiled_convolution_op, _jit_compiled_convolution_op while saving (showing 2 of 2). These functions will not be directly callable after loading.\n"
          ]
        },
        {
          "output_type": "stream",
          "name": "stdout",
          "text": [
            "\b\b\b\b\b\b\b\b\b\b\b\b\b\b\b\b\b\b\b\b\b\b\b\b\b\b\b\b\b\b\b\b\b\b\b\b\b\b\b\b\b\b\b\b\b\b\b\b\b\b\b\b\b\b\b\b\b\b\b\b\b\b\b\b\b\b\b\b\b\b\b\b\b\b\b\b\b\b\b\b\b\b\b\b\r375/375 [==============================] - 6s 15ms/step - loss: 0.0691 - accuracy: 0.9796 - val_loss: 0.0619 - val_accuracy: 0.9811\n",
            "Epoch 3/30\n",
            "373/375 [============================>.] - ETA: 0s - loss: 0.0446 - accuracy: 0.9862\n",
            "Epoch 3: val_accuracy improved from 0.98108 to 0.98325, saving model to /content/drive/MyDrive/Projects/MNIST/model\n"
          ]
        },
        {
          "output_type": "stream",
          "name": "stderr",
          "text": [
            "WARNING:absl:Found untraced functions such as _jit_compiled_convolution_op, _jit_compiled_convolution_op while saving (showing 2 of 2). These functions will not be directly callable after loading.\n"
          ]
        },
        {
          "output_type": "stream",
          "name": "stdout",
          "text": [
            "\b\b\b\b\b\b\b\b\b\b\b\b\b\b\b\b\b\b\b\b\b\b\b\b\b\b\b\b\b\b\b\b\b\b\b\b\b\b\b\b\b\b\b\b\b\b\b\b\b\b\b\b\b\b\b\b\b\b\b\b\b\b\b\b\b\b\b\b\b\b\b\b\b\b\b\b\b\b\b\b\b\b\b\b\r375/375 [==============================] - 4s 12ms/step - loss: 0.0446 - accuracy: 0.9862 - val_loss: 0.0574 - val_accuracy: 0.9833\n",
            "Epoch 4/30\n",
            "373/375 [============================>.] - ETA: 0s - loss: 0.0311 - accuracy: 0.9903\n",
            "Epoch 4: val_accuracy improved from 0.98325 to 0.98517, saving model to /content/drive/MyDrive/Projects/MNIST/model\n"
          ]
        },
        {
          "output_type": "stream",
          "name": "stderr",
          "text": [
            "WARNING:absl:Found untraced functions such as _jit_compiled_convolution_op, _jit_compiled_convolution_op while saving (showing 2 of 2). These functions will not be directly callable after loading.\n"
          ]
        },
        {
          "output_type": "stream",
          "name": "stdout",
          "text": [
            "\b\b\b\b\b\b\b\b\b\b\b\b\b\b\b\b\b\b\b\b\b\b\b\b\b\b\b\b\b\b\b\b\b\b\b\b\b\b\b\b\b\b\b\b\b\b\b\b\b\b\b\b\b\b\b\b\b\b\b\b\b\b\b\b\b\b\b\b\b\b\b\b\b\b\b\b\b\b\b\b\b\b\b\b\r375/375 [==============================] - 5s 13ms/step - loss: 0.0310 - accuracy: 0.9904 - val_loss: 0.0510 - val_accuracy: 0.9852\n",
            "Epoch 5/30\n",
            "372/375 [============================>.] - ETA: 0s - loss: 0.0206 - accuracy: 0.9935\n",
            "Epoch 5: val_accuracy did not improve from 0.98517\n",
            "375/375 [==============================] - 4s 10ms/step - loss: 0.0207 - accuracy: 0.9935 - val_loss: 0.0568 - val_accuracy: 0.9845\n",
            "Epoch 6/30\n",
            "373/375 [============================>.] - ETA: 0s - loss: 0.0179 - accuracy: 0.9941\n",
            "Epoch 6: val_accuracy improved from 0.98517 to 0.98575, saving model to /content/drive/MyDrive/Projects/MNIST/model\n"
          ]
        },
        {
          "output_type": "stream",
          "name": "stderr",
          "text": [
            "WARNING:absl:Found untraced functions such as _jit_compiled_convolution_op, _jit_compiled_convolution_op while saving (showing 2 of 2). These functions will not be directly callable after loading.\n"
          ]
        },
        {
          "output_type": "stream",
          "name": "stdout",
          "text": [
            "\b\b\b\b\b\b\b\b\b\b\b\b\b\b\b\b\b\b\b\b\b\b\b\b\b\b\b\b\b\b\b\b\b\b\b\b\b\b\b\b\b\b\b\b\b\b\b\b\b\b\b\b\b\b\b\b\b\b\b\b\b\b\b\b\b\b\b\b\b\b\b\b\b\b\b\b\b\b\b\b\b\b\b\b\r375/375 [==============================] - 4s 11ms/step - loss: 0.0179 - accuracy: 0.9941 - val_loss: 0.0554 - val_accuracy: 0.9858\n",
            "Epoch 7/30\n",
            "373/375 [============================>.] - ETA: 0s - loss: 0.0155 - accuracy: 0.9948\n",
            "Epoch 7: val_accuracy did not improve from 0.98575\n",
            "375/375 [==============================] - 3s 9ms/step - loss: 0.0154 - accuracy: 0.9949 - val_loss: 0.0607 - val_accuracy: 0.9853\n",
            "Epoch 8/30\n",
            "369/375 [============================>.] - ETA: 0s - loss: 0.0083 - accuracy: 0.9974\n",
            "Epoch 8: val_accuracy improved from 0.98575 to 0.98633, saving model to /content/drive/MyDrive/Projects/MNIST/model\n"
          ]
        },
        {
          "output_type": "stream",
          "name": "stderr",
          "text": [
            "WARNING:absl:Found untraced functions such as _jit_compiled_convolution_op, _jit_compiled_convolution_op while saving (showing 2 of 2). These functions will not be directly callable after loading.\n"
          ]
        },
        {
          "output_type": "stream",
          "name": "stdout",
          "text": [
            "\b\b\b\b\b\b\b\b\b\b\b\b\b\b\b\b\b\b\b\b\b\b\b\b\b\b\b\b\b\b\b\b\b\b\b\b\b\b\b\b\b\b\b\b\b\b\b\b\b\b\b\b\b\b\b\b\b\b\b\b\b\b\b\b\b\b\b\b\b\b\b\b\b\b\b\b\b\b\b\b\b\b\b\b\r375/375 [==============================] - 5s 13ms/step - loss: 0.0083 - accuracy: 0.9974 - val_loss: 0.0651 - val_accuracy: 0.9863\n",
            "Epoch 9/30\n",
            "374/375 [============================>.] - ETA: 0s - loss: 0.0095 - accuracy: 0.9968\n",
            "Epoch 9: val_accuracy did not improve from 0.98633\n",
            "375/375 [==============================] - 3s 9ms/step - loss: 0.0095 - accuracy: 0.9968 - val_loss: 0.0652 - val_accuracy: 0.9859\n",
            "Epoch 10/30\n",
            "375/375 [==============================] - ETA: 0s - loss: 0.0084 - accuracy: 0.9974\n",
            "Epoch 10: val_accuracy did not improve from 0.98633\n",
            "375/375 [==============================] - 4s 10ms/step - loss: 0.0084 - accuracy: 0.9974 - val_loss: 0.0644 - val_accuracy: 0.9860\n",
            "Epoch 11/30\n",
            "374/375 [============================>.] - ETA: 0s - loss: 0.0062 - accuracy: 0.9980\n",
            "Epoch 11: val_accuracy improved from 0.98633 to 0.98700, saving model to /content/drive/MyDrive/Projects/MNIST/model\n"
          ]
        },
        {
          "output_type": "stream",
          "name": "stderr",
          "text": [
            "WARNING:absl:Found untraced functions such as _jit_compiled_convolution_op, _jit_compiled_convolution_op while saving (showing 2 of 2). These functions will not be directly callable after loading.\n"
          ]
        },
        {
          "output_type": "stream",
          "name": "stdout",
          "text": [
            "\b\b\b\b\b\b\b\b\b\b\b\b\b\b\b\b\b\b\b\b\b\b\b\b\b\b\b\b\b\b\b\b\b\b\b\b\b\b\b\b\b\b\b\b\b\b\b\b\b\b\b\b\b\b\b\b\b\b\b\b\b\b\b\b\b\b\b\b\b\b\b\b\b\b\b\b\b\b\b\b\b\b\b\b\r375/375 [==============================] - 5s 13ms/step - loss: 0.0062 - accuracy: 0.9980 - val_loss: 0.0632 - val_accuracy: 0.9870\n",
            "Epoch 12/30\n",
            "370/375 [============================>.] - ETA: 0s - loss: 0.0077 - accuracy: 0.9976\n",
            "Epoch 12: val_accuracy did not improve from 0.98700\n",
            "375/375 [==============================] - 3s 9ms/step - loss: 0.0078 - accuracy: 0.9976 - val_loss: 0.0740 - val_accuracy: 0.9857\n",
            "Epoch 13/30\n",
            "371/375 [============================>.] - ETA: 0s - loss: 0.0043 - accuracy: 0.9987\n",
            "Epoch 13: val_accuracy improved from 0.98700 to 0.98792, saving model to /content/drive/MyDrive/Projects/MNIST/model\n"
          ]
        },
        {
          "output_type": "stream",
          "name": "stderr",
          "text": [
            "WARNING:absl:Found untraced functions such as _jit_compiled_convolution_op, _jit_compiled_convolution_op while saving (showing 2 of 2). These functions will not be directly callable after loading.\n"
          ]
        },
        {
          "output_type": "stream",
          "name": "stdout",
          "text": [
            "\b\b\b\b\b\b\b\b\b\b\b\b\b\b\b\b\b\b\b\b\b\b\b\b\b\b\b\b\b\b\b\b\b\b\b\b\b\b\b\b\b\b\b\b\b\b\b\b\b\b\b\b\b\b\b\b\b\b\b\b\b\b\b\b\b\b\b\b\b\b\b\b\b\b\b\b\b\b\b\b\b\b\b\b\r375/375 [==============================] - 4s 11ms/step - loss: 0.0043 - accuracy: 0.9987 - val_loss: 0.0649 - val_accuracy: 0.9879\n",
            "Epoch 14/30\n",
            "372/375 [============================>.] - ETA: 0s - loss: 0.0057 - accuracy: 0.9978\n",
            "Epoch 14: val_accuracy did not improve from 0.98792\n",
            "375/375 [==============================] - 4s 10ms/step - loss: 0.0057 - accuracy: 0.9979 - val_loss: 0.0785 - val_accuracy: 0.9868\n",
            "Epoch 15/30\n",
            "369/375 [============================>.] - ETA: 0s - loss: 0.0042 - accuracy: 0.9986\n",
            "Epoch 15: val_accuracy did not improve from 0.98792\n",
            "375/375 [==============================] - 4s 10ms/step - loss: 0.0042 - accuracy: 0.9986 - val_loss: 0.0673 - val_accuracy: 0.9874\n",
            "Epoch 16/30\n",
            "369/375 [============================>.] - ETA: 0s - loss: 0.0039 - accuracy: 0.9988\n",
            "Epoch 16: val_accuracy improved from 0.98792 to 0.98825, saving model to /content/drive/MyDrive/Projects/MNIST/model\n"
          ]
        },
        {
          "output_type": "stream",
          "name": "stderr",
          "text": [
            "WARNING:absl:Found untraced functions such as _jit_compiled_convolution_op, _jit_compiled_convolution_op while saving (showing 2 of 2). These functions will not be directly callable after loading.\n"
          ]
        },
        {
          "output_type": "stream",
          "name": "stdout",
          "text": [
            "\b\b\b\b\b\b\b\b\b\b\b\b\b\b\b\b\b\b\b\b\b\b\b\b\b\b\b\b\b\b\b\b\b\b\b\b\b\b\b\b\b\b\b\b\b\b\b\b\b\b\b\b\b\b\b\b\b\b\b\b\b\b\b\b\b\b\b\b\b\b\b\b\b\b\b\b\b\b\b\b\b\b\b\b\r375/375 [==============================] - 4s 12ms/step - loss: 0.0038 - accuracy: 0.9988 - val_loss: 0.0714 - val_accuracy: 0.9883\n",
            "Epoch 17/30\n",
            "371/375 [============================>.] - ETA: 0s - loss: 0.0037 - accuracy: 0.9987\n",
            "Epoch 17: val_accuracy did not improve from 0.98825\n",
            "375/375 [==============================] - 3s 9ms/step - loss: 0.0037 - accuracy: 0.9987 - val_loss: 0.0929 - val_accuracy: 0.9858\n",
            "Epoch 18/30\n",
            "371/375 [============================>.] - ETA: 0s - loss: 0.0028 - accuracy: 0.9990\n",
            "Epoch 18: val_accuracy did not improve from 0.98825\n",
            "375/375 [==============================] - 4s 10ms/step - loss: 0.0028 - accuracy: 0.9990 - val_loss: 0.0799 - val_accuracy: 0.9868\n",
            "Epoch 19/30\n",
            "369/375 [============================>.] - ETA: 0s - loss: 0.0050 - accuracy: 0.9984\n",
            "Epoch 19: val_accuracy did not improve from 0.98825\n",
            "375/375 [==============================] - 4s 10ms/step - loss: 0.0052 - accuracy: 0.9983 - val_loss: 0.0769 - val_accuracy: 0.9865\n",
            "Epoch 20/30\n",
            "374/375 [============================>.] - ETA: 0s - loss: 0.0052 - accuracy: 0.9981\n",
            "Epoch 20: val_accuracy did not improve from 0.98825\n",
            "375/375 [==============================] - 3s 9ms/step - loss: 0.0052 - accuracy: 0.9981 - val_loss: 0.0741 - val_accuracy: 0.9868\n",
            "Epoch 21/30\n",
            "373/375 [============================>.] - ETA: 0s - loss: 0.0013 - accuracy: 0.9995\n",
            "Epoch 21: val_accuracy did not improve from 0.98825\n",
            "375/375 [==============================] - 4s 10ms/step - loss: 0.0013 - accuracy: 0.9995 - val_loss: 0.0874 - val_accuracy: 0.9871\n",
            "Epoch 22/30\n",
            "372/375 [============================>.] - ETA: 0s - loss: 9.1821e-04 - accuracy: 0.9997\n",
            "Epoch 22: val_accuracy did not improve from 0.98825\n",
            "375/375 [==============================] - 4s 11ms/step - loss: 9.4436e-04 - accuracy: 0.9997 - val_loss: 0.0925 - val_accuracy: 0.9857\n",
            "Epoch 23/30\n",
            "370/375 [============================>.] - ETA: 0s - loss: 0.0036 - accuracy: 0.9988\n",
            "Epoch 23: val_accuracy did not improve from 0.98825\n",
            "375/375 [==============================] - 4s 10ms/step - loss: 0.0035 - accuracy: 0.9988 - val_loss: 0.0929 - val_accuracy: 0.9842\n",
            "Epoch 24/30\n",
            "371/375 [============================>.] - ETA: 0s - loss: 0.0020 - accuracy: 0.9994\n",
            "Epoch 24: val_accuracy did not improve from 0.98825\n",
            "375/375 [==============================] - 3s 9ms/step - loss: 0.0021 - accuracy: 0.9994 - val_loss: 0.0963 - val_accuracy: 0.9858\n",
            "Epoch 25/30\n",
            "374/375 [============================>.] - ETA: 0s - loss: 0.0053 - accuracy: 0.9982\n",
            "Epoch 25: val_accuracy did not improve from 0.98825\n",
            "375/375 [==============================] - 4s 9ms/step - loss: 0.0053 - accuracy: 0.9982 - val_loss: 0.0953 - val_accuracy: 0.9851\n",
            "Epoch 26/30\n",
            "373/375 [============================>.] - ETA: 0s - loss: 0.0026 - accuracy: 0.9992\n",
            "Epoch 26: val_accuracy did not improve from 0.98825\n",
            "375/375 [==============================] - 3s 9ms/step - loss: 0.0026 - accuracy: 0.9992 - val_loss: 0.0953 - val_accuracy: 0.9845\n",
            "Epoch 27/30\n",
            "370/375 [============================>.] - ETA: 0s - loss: 0.0027 - accuracy: 0.9990\n",
            "Epoch 27: val_accuracy did not improve from 0.98825\n",
            "375/375 [==============================] - 4s 11ms/step - loss: 0.0027 - accuracy: 0.9990 - val_loss: 0.0886 - val_accuracy: 0.9869\n",
            "Epoch 28/30\n",
            "371/375 [============================>.] - ETA: 0s - loss: 0.0014 - accuracy: 0.9996\n",
            "Epoch 28: val_accuracy did not improve from 0.98825\n",
            "375/375 [==============================] - 4s 10ms/step - loss: 0.0014 - accuracy: 0.9996 - val_loss: 0.0969 - val_accuracy: 0.9861\n",
            "Epoch 29/30\n",
            "370/375 [============================>.] - ETA: 0s - loss: 0.0036 - accuracy: 0.9988\n",
            "Epoch 29: val_accuracy did not improve from 0.98825\n",
            "375/375 [==============================] - 4s 10ms/step - loss: 0.0036 - accuracy: 0.9987 - val_loss: 0.0976 - val_accuracy: 0.9868\n",
            "Epoch 30/30\n",
            "370/375 [============================>.] - ETA: 0s - loss: 0.0011 - accuracy: 0.9996\n",
            "Epoch 30: val_accuracy did not improve from 0.98825\n",
            "375/375 [==============================] - 4s 10ms/step - loss: 0.0011 - accuracy: 0.9996 - val_loss: 0.0928 - val_accuracy: 0.9870\n"
          ]
        }
      ]
    },
    {
      "cell_type": "code",
      "source": [
        "model.load_weights(best_model_file)"
      ],
      "metadata": {
        "colab": {
          "base_uri": "https://localhost:8080/"
        },
        "id": "uFmpq12NtdHV",
        "outputId": "4a56c367-a12c-439c-8541-d5223a40d0c2"
      },
      "execution_count": 12,
      "outputs": [
        {
          "output_type": "execute_result",
          "data": {
            "text/plain": [
              "<tensorflow.python.checkpoint.checkpoint.CheckpointLoadStatus at 0x7fc5003490d0>"
            ]
          },
          "metadata": {},
          "execution_count": 12
        }
      ]
    },
    {
      "cell_type": "code",
      "source": [
        "plt.plot(history.history['accuracy'])\n",
        "plt.title('Train Accuracy')\n",
        "plt.xlabel('Epoch')\n",
        "plt.ylabel('Acc.')\n",
        "plt.show()\n",
        "\n",
        "\n",
        "plt.plot(history.history['val_accuracy'])\n",
        "plt.title('Val Accuracy')\n",
        "plt.xlabel('Epoch')\n",
        "plt.ylabel('Acc.')\n",
        "plt.show()\n"
      ],
      "metadata": {
        "colab": {
          "base_uri": "https://localhost:8080/",
          "height": 573
        },
        "id": "MVWAsYb1t9bJ",
        "outputId": "648e08ad-10bd-4806-e347-61c142a85270"
      },
      "execution_count": 13,
      "outputs": [
        {
          "output_type": "display_data",
          "data": {
            "text/plain": [
              "<Figure size 432x288 with 1 Axes>"
            ],
            "image/png": "[encoded data removed]"
          },
          "metadata": {
            "needs_background": "light"
          }
        },
        {
          "output_type": "display_data",
          "data": {
            "text/plain": [
              "<Figure size 432x288 with 1 Axes>"
            ],
            "image/png": "[encoded data removed]"
          },
          "metadata": {
            "needs_background": "light"
          }
        }
      ]
    },
    {
      "cell_type": "code",
      "source": [
        "plt.plot(history.history['loss'])\n",
        "plt.title('Train Loss')\n",
        "plt.xlabel('Epoch')\n",
        "plt.ylabel('Loss.')\n",
        "plt.show()\n",
        "\n",
        "plt.plot(history.history['val_loss'])\n",
        "plt.title('Val Loss')\n",
        "plt.xlabel('Epoch')\n",
        "plt.ylabel('Loss.')\n",
        "plt.show()"
      ],
      "metadata": {
        "colab": {
          "base_uri": "https://localhost:8080/",
          "height": 573
        },
        "id": "DQQKizUfuAo_",
        "outputId": "ed27c45a-605b-414f-9303-f49f19703d7f"
      },
      "execution_count": 14,
      "outputs": [
        {
          "output_type": "display_data",
          "data": {
            "text/plain": [
              "<Figure size 432x288 with 1 Axes>"
            ],
            "image/png": "[encoded data removed]"
          },
          "metadata": {
            "needs_background": "light"
          }
        },
        {
          "output_type": "display_data",
          "data": {
            "text/plain": [
              "<Figure size 432x288 with 1 Axes>"
            ],
            "image/png": "[encoded data removed]"
          },
          "metadata": {
            "needs_background": "light"
          }
        }
      ]
    },
    {
      "cell_type": "code",
      "source": [
        "_, acc = model.evaluate(x_test,y_test_cat)\n",
        "print('Accuracy of train set: %.2f' % (acc*100))\n",
        "y_predict = model.predict(x_test)\n",
        "y_p=np.argmax(y_predict, axis=1).reshape(y_test.shape[0],1)\n",
        "print(y_p.shape)\n",
        "print('\\n\\nTrain Predict Report===============\\n')\n",
        "print(classification_report(y_test,y_p))\n",
        "print('\\n\\nTrain Cunfusion Matrix===============\\n')\n",
        "matrix_confusion=(confusion_matrix(y_test,y_p))\n",
        "sns.heatmap(matrix_confusion, square=True, annot=True, cmap='Blues', fmt='d', cbar=False)\n",
        "\n"
      ],
      "metadata": {
        "colab": {
          "base_uri": "https://localhost:8080/",
          "height": 812
        },
        "id": "iLd-Jj0EoAvr",
        "outputId": "bd471ede-07f6-4385-ac4b-6c58ee801f7d"
      },
      "execution_count": 15,
      "outputs": [
        {
          "output_type": "stream",
          "name": "stdout",
          "text": [
            "313/313 [==============================] - 1s 3ms/step - loss: 0.0657 - accuracy: 0.9851\n",
            "Accuracy of train set: 98.51\n",
            "313/313 [==============================] - 1s 2ms/step\n",
            "(10000, 1)\n",
            "\n",
            "\n",
            "Train Predict Report===============\n",
            "\n",
            "              precision    recall  f1-score   support\n",
            "\n",
            "           0       0.99      1.00      0.99       980\n",
            "           1       0.99      0.99      0.99      1135\n",
            "           2       0.98      0.99      0.99      1032\n",
            "           3       0.98      0.99      0.99      1010\n",
            "           4       0.99      0.98      0.98       982\n",
            "           5       0.98      0.98      0.98       892\n",
            "           6       0.98      0.99      0.99       958\n",
            "           7       0.98      0.98      0.98      1028\n",
            "           8       0.98      0.98      0.98       974\n",
            "           9       0.98      0.97      0.98      1009\n",
            "\n",
            "    accuracy                           0.99     10000\n",
            "   macro avg       0.98      0.98      0.98     10000\n",
            "weighted avg       0.99      0.99      0.99     10000\n",
            "\n",
            "\n",
            "\n",
            "Train Cunfusion Matrix===============\n",
            "\n"
          ]
        },
        {
          "output_type": "execute_result",
          "data": {
            "text/plain": [
              "<AxesSubplot:>"
            ]
          },
          "metadata": {},
          "execution_count": 15
        },
        {
          "output_type": "display_data",
          "data": {
            "text/plain": [
              "<Figure size 432x288 with 1 Axes>"
            ],
            "image/png": "[encoded data removed]"
          },
          "metadata": {
            "needs_background": "light"
          }
        }
      ]
    }
  ]
}